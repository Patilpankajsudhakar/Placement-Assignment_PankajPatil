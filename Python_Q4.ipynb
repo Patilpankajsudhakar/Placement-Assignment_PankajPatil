{
  "nbformat": 4,
  "nbformat_minor": 0,
  "metadata": {
    "colab": {
      "provenance": []
    },
    "kernelspec": {
      "name": "python3",
      "display_name": "Python 3"
    },
    "language_info": {
      "name": "python"
    }
  },
  "cells": [
    {
      "cell_type": "markdown",
      "source": [
        "Question 4 -\n",
        "Write a program to download the data from the link given below and then read the data and convert the into\n",
        "the proper structure and return it as a CSV file.\n",
        "Link - https://data.nasa.gov/resource/y77d-th95.json\n",
        "Note - Write code comments wherever needed for code understanding.\n",
        "\n",
        "\n",
        "Excepted Output Data Attributes\n",
        "● Name of Earth Meteorite - string id - ID of Earth\n",
        "● Meteorite - int nametype - string recclass - string\n",
        "● mass - Mass of Earth Meteorite - float year - Year at which Earth\n",
        "● Meteorite was hit - datetime format reclat - float recclong - float\n",
        "● point coordinates - list of int"
      ],
      "metadata": {
        "id": "_7iW2H8YJA7y"
      }
    },
    {
      "cell_type": "code",
      "execution_count": 29,
      "metadata": {
        "colab": {
          "base_uri": "https://localhost:8080/"
        },
        "id": "m-3eMl0V7GRu",
        "outputId": "1fd9a2dc-840e-4b2b-9419-eda9030149a1"
      },
      "outputs": [
        {
          "output_type": "stream",
          "name": "stdout",
          "text": [
            "Data exported to CSV successfully: meteorite_data.csv\n"
          ]
        }
      ],
      "source": [
        "import requests\n",
        "import json\n",
        "import csv\n",
        "from datetime import datetime\n",
        "\n",
        "def download_data(url):\n",
        "    response = requests.get(url)\n",
        "    if response.status_code == 200:\n",
        "        data = response.json()\n",
        "        return data\n",
        "    else:\n",
        "        print(\"Failed to download the data.\")\n",
        "        return None\n",
        "\n",
        "\n",
        "def process_data(data):\n",
        "    processed_data = []\n",
        "    for item in data:\n",
        "        year_str = item.get('year', '')\n",
        "        year = None\n",
        "        if year_str:\n",
        "            try:\n",
        "                year = datetime.strptime(year_str, \"%Y-%m-%dT%H:%M:%S.%f\").strftime(\"%Y-%m-%d\")\n",
        "            except ValueError:\n",
        "                pass\n",
        "        try:\n",
        "          processed_data.append({\n",
        "            'Name of Earth Meteorite': item.get('name', ''),\n",
        "            'id': item.get('id', ''),\n",
        "            'nametype': item.get('nametype', ''),\n",
        "            'recclass': item.get('recclass', ''),\n",
        "            'mass': float(item.get('mass (g)', 0)),\n",
        "            'year': year,\n",
        "            'reclat': float(item.get('reclat', 0)),\n",
        "            'reclong': float(item.get('reclong', 0)),\n",
        "            'point coordinates': [int(item['geolocation']['coordinates'][0]), int(item['geolocation']['coordinates'][1])]\n",
        "        })\n",
        "          \n",
        "        except KeyError:\n",
        "          processed_data.append({\n",
        "            'Name of Earth Meteorite': item.get('name', ''),\n",
        "            'id': item.get('id', ''),\n",
        "            'nametype': item.get('nametype', ''),\n",
        "            'recclass': item.get('recclass', ''),\n",
        "            'mass': float(item.get('mass (g)', 0)),\n",
        "            'year': year,\n",
        "            'reclat': float(item.get('reclat', 0)),\n",
        "            'reclong': float(item.get('reclong', 0)),\n",
        "            'point coordinates': None\n",
        "        })\n",
        "\n",
        "    return processed_data\n",
        "\n",
        "def save_as_csv(data, file_path):\n",
        "    fieldnames = ['Name of Earth Meteorite', 'id', 'nametype', 'recclass', 'mass', 'year', 'reclat', 'reclong', 'point coordinates']\n",
        "    with open(file_path, 'w', newline='', encoding='utf-8') as csvfile:\n",
        "        writer = csv.DictWriter(csvfile, fieldnames=fieldnames)\n",
        "        writer.writeheader()\n",
        "        writer.writerows(data)\n",
        "    print(f\"Data exported to CSV successfully: {file_path}\")\n",
        "\n",
        "# Example usage\n",
        "data_url = \"https://data.nasa.gov/resource/y77d-th95.json\"\n",
        "csv_file_path = \"meteorite_data.csv\"\n",
        "\n",
        "data = download_data(data_url)\n",
        "\n",
        "if data is not None:\n",
        "    processed_data = process_data(data)\n",
        "    save_as_csv(processed_data, csv_file_path)\n"
      ]
    }
  ]
}