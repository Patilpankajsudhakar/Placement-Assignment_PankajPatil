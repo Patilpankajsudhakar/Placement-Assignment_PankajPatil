{
  "nbformat": 4,
  "nbformat_minor": 0,
  "metadata": {
    "colab": {
      "provenance": []
    },
    "kernelspec": {
      "name": "python3",
      "display_name": "Python 3"
    },
    "language_info": {
      "name": "python"
    }
  },
  "cells": [
    {
      "cell_type": "markdown",
      "source": [
        "Question 10 -\n",
        "Write a program to count the number of verbs, nouns, pronouns, and adjectives in a given particular phrase or\n",
        "paragraph, and return their respective count as a dictionary.\n",
        "Note -\n",
        "1. Write code comments wherever required for code\n",
        "2. You have to write at least 2 additional test cases in which your program will run successfully and provide\n",
        "an explanation for the same."
      ],
      "metadata": {
        "id": "IgUcu9ej2cJ0"
      }
    },
    {
      "cell_type": "code",
      "source": [
        "nltk.download('punkt')\n",
        "nltk.download('averaged_perceptron_tagger')"
      ],
      "metadata": {
        "colab": {
          "base_uri": "https://localhost:8080/"
        },
        "id": "Whw8Vvbo3Ezz",
        "outputId": "d2b36215-3b66-4843-87d2-d9d15532d437"
      },
      "execution_count": 6,
      "outputs": [
        {
          "output_type": "stream",
          "name": "stderr",
          "text": [
            "[nltk_data] Downloading package punkt to /root/nltk_data...\n",
            "[nltk_data]   Package punkt is already up-to-date!\n",
            "[nltk_data] Downloading package averaged_perceptron_tagger to\n",
            "[nltk_data]     /root/nltk_data...\n",
            "[nltk_data]   Unzipping taggers/averaged_perceptron_tagger.zip.\n"
          ]
        },
        {
          "output_type": "execute_result",
          "data": {
            "text/plain": [
              "True"
            ]
          },
          "metadata": {},
          "execution_count": 6
        }
      ]
    },
    {
      "cell_type": "code",
      "execution_count": 7,
      "metadata": {
        "colab": {
          "base_uri": "https://localhost:8080/"
        },
        "id": "UGgpjCAw2IFw",
        "outputId": "22e25626-2c68-40dc-cf7c-39c503d683c9"
      },
      "outputs": [
        {
          "output_type": "stream",
          "name": "stdout",
          "text": [
            "{'verbs': 2, 'nouns': 1, 'pronouns': 1, 'adjectives': 0}\n",
            "{'verbs': 0, 'nouns': 0, 'pronouns': 0, 'adjectives': 0}\n",
            "{'verbs': 2, 'nouns': 3, 'pronouns': 1, 'adjectives': 3}\n"
          ]
        }
      ],
      "source": [
        "import nltk\n",
        "from nltk import word_tokenize, pos_tag\n",
        "\n",
        "def count_pos(text):\n",
        "    \"\"\"\n",
        "    Count the number of verbs, nouns, pronouns, and adjectives in a given text.\n",
        "    \n",
        "    Args:\n",
        "        text (str): The input text to analyze.\n",
        "    \n",
        "    Returns:\n",
        "        dict: A dictionary containing the counts of verbs, nouns, pronouns, and adjectives.\n",
        "    \"\"\"\n",
        "    # Tokenize the text into words\n",
        "    words = word_tokenize(text)\n",
        "    \n",
        "    # Tag the words with their part-of-speech\n",
        "    tagged_words = pos_tag(words)\n",
        "    \n",
        "    # Initialize counters for each part-of-speech category\n",
        "    verb_count = 0\n",
        "    noun_count = 0\n",
        "    pronoun_count = 0\n",
        "    adjective_count = 0\n",
        "    \n",
        "    # Iterate through the tagged words and count the occurrences of each category\n",
        "    for word, tag in tagged_words:\n",
        "        if tag.startswith('VB'):  # Verbs start with 'VB'\n",
        "            verb_count += 1\n",
        "        elif tag.startswith('NN'):  # Nouns start with 'NN'\n",
        "            noun_count += 1\n",
        "        elif tag.startswith('PRP'):  # Pronouns start with 'PRP'\n",
        "            pronoun_count += 1\n",
        "        elif tag.startswith('JJ'):  # Adjectives start with 'JJ'\n",
        "            adjective_count += 1\n",
        "    \n",
        "    # Create a dictionary with the counts\n",
        "    counts = {\n",
        "        'verbs': verb_count,\n",
        "        'nouns': noun_count,\n",
        "        'pronouns': pronoun_count,\n",
        "        'adjectives': adjective_count\n",
        "    }\n",
        "    \n",
        "    return counts\n",
        "\n",
        "\n",
        "# Test  the function with some sample phrases\n",
        "phrase1 = \"I like to eat pizza.\"\n",
        "counts1 = count_pos(phrase1)\n",
        "print(counts1)  # Output: {'verbs': 2, 'nouns': 1, 'pronouns': 1, 'adjectives': 0}\n",
        "\n",
        "# Additional test cases\n",
        "# Test case 1: Empty input\n",
        "empty_phrase = \"\"\n",
        "empty_counts = count_pos(empty_phrase)\n",
        "print(empty_counts)\n",
        "# Explanation: When the input text is empty, all the counts will be zero.\n",
        "\n",
        "# Test case 2: Complex sentence with multiple parts of speech\n",
        "complex_phrase = \"The quick brown fox jumps over the lazy dog. They were very happy.\"\n",
        "complex_counts = count_pos(complex_phrase)\n",
        "print(complex_counts)\n",
        "# Explanation: The sentence contains multiple verbs (jumps, were), nouns (fox, dog), pronouns (They), and adjectives (quick, brown, lazy, happy).\n"
      ]
    }
  ]
}