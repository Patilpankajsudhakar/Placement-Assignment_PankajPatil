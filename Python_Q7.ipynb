{
  "nbformat": 4,
  "nbformat_minor": 0,
  "metadata": {
    "colab": {
      "provenance": []
    },
    "kernelspec": {
      "name": "python3",
      "display_name": "Python 3"
    },
    "language_info": {
      "name": "python"
    }
  },
  "cells": [
    {
      "cell_type": "markdown",
      "source": [
        "Question 7 -\n",
        "Using the data from Question 4, write code to analyze the data and answer the following questions Note -\n",
        "1. Draw plots to demonstrate the analysis for the following questions for better visualizations\n",
        "2. Write code comments wherever required for code understanding\n",
        "\n",
        "Insights to be drawn -\n",
        "● Get all the Earth meteorites that fell before the year 2000\n",
        "● Get all the earth meteorites co-ordinates who fell before the year 1970\n",
        "● Assuming that the mass of the earth meteorites was in kg, get all those whose mass was more\n",
        "than 10000kg"
      ],
      "metadata": {
        "id": "YvQjP4ZrmIXu"
      }
    },
    {
      "cell_type": "code",
      "execution_count": 177,
      "metadata": {
        "id": "oR7s1pLUmCzM"
      },
      "outputs": [],
      "source": [
        "import requests\n",
        "import csv\n",
        "import json\n",
        "import datetime\n",
        "import pandas as pd\n",
        "import matplotlib.pyplot as plt\n",
        "import seaborn as sns\n",
        "from datetime import datetime\n",
        "import re"
      ]
    },
    {
      "cell_type": "code",
      "source": [
        "def download_data(url):\n",
        "    response = requests.get(url)\n",
        "    if response.status_code == 200:\n",
        "        data = response.json()\n",
        "        return data\n",
        "    else:\n",
        "        print(\"Failed to download the data.\")\n",
        "        return None\n",
        "\n",
        "\n",
        "def process_data(data):\n",
        "    processed_data = []\n",
        "    for item in data:\n",
        "        year_str = item.get('year', '')\n",
        "        year = None\n",
        "        if year_str:\n",
        "            try:\n",
        "                year = datetime.strptime(year_str, \"%Y-%m-%dT%H:%M:%S.%f\").strftime(\"%Y-%m-%d\")\n",
        "            except ValueError:\n",
        "                pass\n",
        "        try:\n",
        "          processed_data.append({\n",
        "            'Name of Earth Meteorite': item.get('name', ''),\n",
        "            'id': item.get('id', ''),\n",
        "            'nametype': item.get('nametype', ''),\n",
        "            'recclass': item.get('recclass', ''),\n",
        "            'mass': float(item[\"mass\"]),\n",
        "            'year': year,\n",
        "            'reclat': float(item.get('reclat', 0)),\n",
        "            'reclong': float(item.get('reclong', 0)),\n",
        "            'point coordinates': [int(item['geolocation']['coordinates'][0]), int(item['geolocation']['coordinates'][1])]\n",
        "        })\n",
        "          \n",
        "        except KeyError:\n",
        "          processed_data.append({\n",
        "            'Name of Earth Meteorite': item.get('name', ''),\n",
        "            'id': item.get('id', ''),\n",
        "            'nametype': item.get('nametype', ''),\n",
        "            'recclass': item.get('recclass', ''),\n",
        "            'mass': float(item.get('mass (g)', 0)),\n",
        "            'year': year,\n",
        "            'reclat': float(item.get('reclat', 0)),\n",
        "            'reclong': float(item.get('reclong', 0)),\n",
        "            'point coordinates': None\n",
        "        })\n",
        "\n",
        "    return processed_data"
      ],
      "metadata": {
        "id": "W8X8TrCrm_CE"
      },
      "execution_count": 178,
      "outputs": []
    },
    {
      "cell_type": "code",
      "source": [
        "data_url = \"https://data.nasa.gov/resource/y77d-th95.json\"\n",
        "\n",
        "data = download_data(data_url)\n",
        "\n",
        "if data is not None:\n",
        "    structured_data = process_data(data)"
      ],
      "metadata": {
        "id": "ACpvZQxzwBuv"
      },
      "execution_count": 179,
      "outputs": []
    },
    {
      "cell_type": "code",
      "source": [
        "df=pd.DataFrame(structured_data)"
      ],
      "metadata": {
        "id": "vczQMvfwwKzB"
      },
      "execution_count": 180,
      "outputs": []
    },
    {
      "cell_type": "code",
      "source": [
        "df.head()"
      ],
      "metadata": {
        "colab": {
          "base_uri": "https://localhost:8080/",
          "height": 206
        },
        "id": "bH6fsJ_CwRKu",
        "outputId": "3253ffad-714b-4d0c-da3e-51385da6f9d7"
      },
      "execution_count": 181,
      "outputs": [
        {
          "output_type": "execute_result",
          "data": {
            "text/plain": [
              "  Name of Earth Meteorite   id nametype     recclass      mass        year  \\\n",
              "0                  Aachen    1    Valid           L5      21.0  1880-01-01   \n",
              "1                  Aarhus    2    Valid           H6     720.0  1951-01-01   \n",
              "2                    Abee    6    Valid          EH4  107000.0  1952-01-01   \n",
              "3                Acapulco   10    Valid  Acapulcoite    1914.0  1976-01-01   \n",
              "4                 Achiras  370    Valid           L6     780.0  1902-01-01   \n",
              "\n",
              "     reclat    reclong point coordinates  \n",
              "0  50.77500    6.08333           [6, 50]  \n",
              "1  56.18333   10.23333          [10, 56]  \n",
              "2  54.21667 -113.00000        [-113, 54]  \n",
              "3  16.88333  -99.90000         [-99, 16]  \n",
              "4 -33.16667  -64.95000        [-64, -33]  "
            ],
            "text/html": [
              "\n",
              "  <div id=\"df-e1f1c52c-29a7-4b18-91f4-5dbdb2aed0e5\">\n",
              "    <div class=\"colab-df-container\">\n",
              "      <div>\n",
              "<style scoped>\n",
              "    .dataframe tbody tr th:only-of-type {\n",
              "        vertical-align: middle;\n",
              "    }\n",
              "\n",
              "    .dataframe tbody tr th {\n",
              "        vertical-align: top;\n",
              "    }\n",
              "\n",
              "    .dataframe thead th {\n",
              "        text-align: right;\n",
              "    }\n",
              "</style>\n",
              "<table border=\"1\" class=\"dataframe\">\n",
              "  <thead>\n",
              "    <tr style=\"text-align: right;\">\n",
              "      <th></th>\n",
              "      <th>Name of Earth Meteorite</th>\n",
              "      <th>id</th>\n",
              "      <th>nametype</th>\n",
              "      <th>recclass</th>\n",
              "      <th>mass</th>\n",
              "      <th>year</th>\n",
              "      <th>reclat</th>\n",
              "      <th>reclong</th>\n",
              "      <th>point coordinates</th>\n",
              "    </tr>\n",
              "  </thead>\n",
              "  <tbody>\n",
              "    <tr>\n",
              "      <th>0</th>\n",
              "      <td>Aachen</td>\n",
              "      <td>1</td>\n",
              "      <td>Valid</td>\n",
              "      <td>L5</td>\n",
              "      <td>21.0</td>\n",
              "      <td>1880-01-01</td>\n",
              "      <td>50.77500</td>\n",
              "      <td>6.08333</td>\n",
              "      <td>[6, 50]</td>\n",
              "    </tr>\n",
              "    <tr>\n",
              "      <th>1</th>\n",
              "      <td>Aarhus</td>\n",
              "      <td>2</td>\n",
              "      <td>Valid</td>\n",
              "      <td>H6</td>\n",
              "      <td>720.0</td>\n",
              "      <td>1951-01-01</td>\n",
              "      <td>56.18333</td>\n",
              "      <td>10.23333</td>\n",
              "      <td>[10, 56]</td>\n",
              "    </tr>\n",
              "    <tr>\n",
              "      <th>2</th>\n",
              "      <td>Abee</td>\n",
              "      <td>6</td>\n",
              "      <td>Valid</td>\n",
              "      <td>EH4</td>\n",
              "      <td>107000.0</td>\n",
              "      <td>1952-01-01</td>\n",
              "      <td>54.21667</td>\n",
              "      <td>-113.00000</td>\n",
              "      <td>[-113, 54]</td>\n",
              "    </tr>\n",
              "    <tr>\n",
              "      <th>3</th>\n",
              "      <td>Acapulco</td>\n",
              "      <td>10</td>\n",
              "      <td>Valid</td>\n",
              "      <td>Acapulcoite</td>\n",
              "      <td>1914.0</td>\n",
              "      <td>1976-01-01</td>\n",
              "      <td>16.88333</td>\n",
              "      <td>-99.90000</td>\n",
              "      <td>[-99, 16]</td>\n",
              "    </tr>\n",
              "    <tr>\n",
              "      <th>4</th>\n",
              "      <td>Achiras</td>\n",
              "      <td>370</td>\n",
              "      <td>Valid</td>\n",
              "      <td>L6</td>\n",
              "      <td>780.0</td>\n",
              "      <td>1902-01-01</td>\n",
              "      <td>-33.16667</td>\n",
              "      <td>-64.95000</td>\n",
              "      <td>[-64, -33]</td>\n",
              "    </tr>\n",
              "  </tbody>\n",
              "</table>\n",
              "</div>\n",
              "      <button class=\"colab-df-convert\" onclick=\"convertToInteractive('df-e1f1c52c-29a7-4b18-91f4-5dbdb2aed0e5')\"\n",
              "              title=\"Convert this dataframe to an interactive table.\"\n",
              "              style=\"display:none;\">\n",
              "        \n",
              "  <svg xmlns=\"http://www.w3.org/2000/svg\" height=\"24px\"viewBox=\"0 0 24 24\"\n",
              "       width=\"24px\">\n",
              "    <path d=\"M0 0h24v24H0V0z\" fill=\"none\"/>\n",
              "    <path d=\"M18.56 5.44l.94 2.06.94-2.06 2.06-.94-2.06-.94-.94-2.06-.94 2.06-2.06.94zm-11 1L8.5 8.5l.94-2.06 2.06-.94-2.06-.94L8.5 2.5l-.94 2.06-2.06.94zm10 10l.94 2.06.94-2.06 2.06-.94-2.06-.94-.94-2.06-.94 2.06-2.06.94z\"/><path d=\"M17.41 7.96l-1.37-1.37c-.4-.4-.92-.59-1.43-.59-.52 0-1.04.2-1.43.59L10.3 9.45l-7.72 7.72c-.78.78-.78 2.05 0 2.83L4 21.41c.39.39.9.59 1.41.59.51 0 1.02-.2 1.41-.59l7.78-7.78 2.81-2.81c.8-.78.8-2.07 0-2.86zM5.41 20L4 18.59l7.72-7.72 1.47 1.35L5.41 20z\"/>\n",
              "  </svg>\n",
              "      </button>\n",
              "      \n",
              "  <style>\n",
              "    .colab-df-container {\n",
              "      display:flex;\n",
              "      flex-wrap:wrap;\n",
              "      gap: 12px;\n",
              "    }\n",
              "\n",
              "    .colab-df-convert {\n",
              "      background-color: #E8F0FE;\n",
              "      border: none;\n",
              "      border-radius: 50%;\n",
              "      cursor: pointer;\n",
              "      display: none;\n",
              "      fill: #1967D2;\n",
              "      height: 32px;\n",
              "      padding: 0 0 0 0;\n",
              "      width: 32px;\n",
              "    }\n",
              "\n",
              "    .colab-df-convert:hover {\n",
              "      background-color: #E2EBFA;\n",
              "      box-shadow: 0px 1px 2px rgba(60, 64, 67, 0.3), 0px 1px 3px 1px rgba(60, 64, 67, 0.15);\n",
              "      fill: #174EA6;\n",
              "    }\n",
              "\n",
              "    [theme=dark] .colab-df-convert {\n",
              "      background-color: #3B4455;\n",
              "      fill: #D2E3FC;\n",
              "    }\n",
              "\n",
              "    [theme=dark] .colab-df-convert:hover {\n",
              "      background-color: #434B5C;\n",
              "      box-shadow: 0px 1px 3px 1px rgba(0, 0, 0, 0.15);\n",
              "      filter: drop-shadow(0px 1px 2px rgba(0, 0, 0, 0.3));\n",
              "      fill: #FFFFFF;\n",
              "    }\n",
              "  </style>\n",
              "\n",
              "      <script>\n",
              "        const buttonEl =\n",
              "          document.querySelector('#df-e1f1c52c-29a7-4b18-91f4-5dbdb2aed0e5 button.colab-df-convert');\n",
              "        buttonEl.style.display =\n",
              "          google.colab.kernel.accessAllowed ? 'block' : 'none';\n",
              "\n",
              "        async function convertToInteractive(key) {\n",
              "          const element = document.querySelector('#df-e1f1c52c-29a7-4b18-91f4-5dbdb2aed0e5');\n",
              "          const dataTable =\n",
              "            await google.colab.kernel.invokeFunction('convertToInteractive',\n",
              "                                                     [key], {});\n",
              "          if (!dataTable) return;\n",
              "\n",
              "          const docLinkHtml = 'Like what you see? Visit the ' +\n",
              "            '<a target=\"_blank\" href=https://colab.research.google.com/notebooks/data_table.ipynb>data table notebook</a>'\n",
              "            + ' to learn more about interactive tables.';\n",
              "          element.innerHTML = '';\n",
              "          dataTable['output_type'] = 'display_data';\n",
              "          await google.colab.output.renderOutput(dataTable, element);\n",
              "          const docLink = document.createElement('div');\n",
              "          docLink.innerHTML = docLinkHtml;\n",
              "          element.appendChild(docLink);\n",
              "        }\n",
              "      </script>\n",
              "    </div>\n",
              "  </div>\n",
              "  "
            ]
          },
          "metadata": {},
          "execution_count": 181
        }
      ]
    },
    {
      "cell_type": "code",
      "source": [
        "year=[]\n",
        "for date in df['year']:\n",
        "  if date ==\"921-01-01\":\n",
        "    date=date.replace(\"921-01-01\",\"1921-01-01\")\n",
        "  elif date==\"861-01-01\":\n",
        "    date=date.replace(\"861-01-01\",\"1861-01-01\")\n",
        "  else:\n",
        "    date=date\n",
        "  if date is None:\n",
        "    a=None\n",
        "  else:\n",
        "    a=datetime.strptime(date, '%Y-%m-%d').year\n",
        "  year.append(a)"
      ],
      "metadata": {
        "id": "6HYBUQJIzUx8"
      },
      "execution_count": 182,
      "outputs": []
    },
    {
      "cell_type": "code",
      "source": [
        "len(year)"
      ],
      "metadata": {
        "colab": {
          "base_uri": "https://localhost:8080/"
        },
        "id": "nzq49ddvF3Sv",
        "outputId": "00f14a8b-e696-464d-877d-0c87baf3f3eb"
      },
      "execution_count": 183,
      "outputs": [
        {
          "output_type": "execute_result",
          "data": {
            "text/plain": [
              "1000"
            ]
          },
          "metadata": {},
          "execution_count": 183
        }
      ]
    },
    {
      "cell_type": "code",
      "source": [
        "# Get all Earth meteorites that fell before the year 2000\n",
        "print(\"1) Get all Earth meteorites that fell before the year 2000\")\n",
        "year=[]\n",
        "for date in df['year']:\n",
        "  if date ==\"921-01-01\":\n",
        "    date=date.replace(\"921-01-01\",\"1921-01-01\")\n",
        "  elif date==\"861-01-01\":\n",
        "    date=date.replace(\"861-01-01\",\"1861-01-01\")\n",
        "  else:\n",
        "    date=date\n",
        "  if date is None:\n",
        "    a=None\n",
        "  else:\n",
        "    a=datetime.strptime(date, '%Y-%m-%d').year\n",
        "  year.append(a)\n",
        "\n",
        "earth_meteorites_before_2000 = [y for y in year if y is not None and y <  2000]\n",
        "print(\"Here {} Earth meteorites that fell before the year 2000\".format(len(earth_meteorites_before_2000)))"
      ],
      "metadata": {
        "id": "eZInhbhkw7nO",
        "colab": {
          "base_uri": "https://localhost:8080/"
        },
        "outputId": "3a66ddf7-b989-4acc-f073-ef08aa5afef1"
      },
      "execution_count": 184,
      "outputs": [
        {
          "output_type": "stream",
          "name": "stdout",
          "text": [
            "1) Get all Earth meteorites that fell before the year 2000\n",
            "Here 929 Earth meteorites that fell before the year 2000\n"
          ]
        }
      ]
    },
    {
      "cell_type": "code",
      "source": [
        "#Earth meteorites year distribution\n",
        "years = earth_meteorites_before_2000\n",
        "plt.hist(years, bins=30, edgecolor='black')\n",
        "plt.xlabel('Year')\n",
        "plt.ylabel('Count')\n",
        "plt.title('Earth Meteorites Fell Before 2000')\n",
        "plt.show()"
      ],
      "metadata": {
        "colab": {
          "base_uri": "https://localhost:8080/",
          "height": 472
        },
        "id": "9WkuO4dN7L0r",
        "outputId": "93a6f3bf-641a-4c75-a190-d153be8a965e"
      },
      "execution_count": 185,
      "outputs": [
        {
          "output_type": "display_data",
          "data": {
            "text/plain": [
              "<Figure size 640x480 with 1 Axes>"
            ],
            "image/png": "[encoded data removed]"
          },
          "metadata": {}
        }
      ]
    },
    {
      "cell_type": "code",
      "source": [
        "df['Year']=year"
      ],
      "metadata": {
        "id": "A8rkphVJFdOQ"
      },
      "execution_count": 186,
      "outputs": []
    },
    {
      "cell_type": "code",
      "source": [
        "# Get the coordinates of Earth meteorites that fell before the year 1970\n",
        "print(\"2) Get the coordinates of Earth meteorites that fell before the year 1970\")\n",
        "coordinates_before_1970=df[['reclat','reclong']][df['Year'] < 1970]\n",
        "print(\"Here {} coordinates of Earth meteorites that fell before the year 1970\".format(len(coordinates_before_1970)))"
      ],
      "metadata": {
        "id": "csR-NBYxEpsg",
        "colab": {
          "base_uri": "https://localhost:8080/"
        },
        "outputId": "70bbb0c0-8fee-420f-caf0-1c8d44c9111d"
      },
      "execution_count": 187,
      "outputs": [
        {
          "output_type": "stream",
          "name": "stdout",
          "text": [
            "2) Get the coordinates of Earth meteorites that fell before the year 1970\n",
            "Here 780 coordinates of Earth meteorites that fell before the year 1970\n"
          ]
        }
      ]
    },
    {
      "cell_type": "code",
      "source": [
        "# plot\n",
        "lats=coordinates_before_1970[\"reclat\"]\n",
        "longs=coordinates_before_1970[\"reclong\"]\n",
        "plt.scatter(longs, lats, marker='.', color='red')\n",
        "plt.xlabel('Longitude')\n",
        "plt.ylabel('Latitude')\n",
        "plt.title('Coordinates of Earth Meteorites Fell Before 1970')\n",
        "plt.show()"
      ],
      "metadata": {
        "colab": {
          "base_uri": "https://localhost:8080/",
          "height": 472
        },
        "id": "T_3VAwRlJ4My",
        "outputId": "74f95400-86d9-4799-8622-234da63911fb"
      },
      "execution_count": 188,
      "outputs": [
        {
          "output_type": "display_data",
          "data": {
            "text/plain": [
              "<Figure size 640x480 with 1 Axes>"
            ],
            "image/png": "[encoded data removed]"
          },
          "metadata": {}
        }
      ]
    },
    {
      "cell_type": "code",
      "source": [
        "# Get all Earth meteorites with a mass greater than 10000 kg\n",
        "print(\"3) Get all Earth meteorites with a mass greater than 10000 kg\")\n",
        "earth_meteorites_over_10000kg = df[['Name of Earth Meteorite','mass']][df['mass'] > 10000]\n",
        "print(\"Here {} Earth meteorites with a mass greater than 10000 kg\".format(len(earth_meteorites_over_10000kg)))"
      ],
      "metadata": {
        "colab": {
          "base_uri": "https://localhost:8080/"
        },
        "id": "B4BwHE5oK1HB",
        "outputId": "7ae949e5-a3f1-4d62-eb4c-7f8e2b41355f"
      },
      "execution_count": 189,
      "outputs": [
        {
          "output_type": "stream",
          "name": "stdout",
          "text": [
            "3) Get all Earth meteorites with a mass greater than 10000 kg\n",
            "Here 243 Earth meteorites with a mass greater than 10000 kg\n"
          ]
        }
      ]
    },
    {
      "cell_type": "code",
      "source": [
        "print(earth_meteorites_over_10000kg)"
      ],
      "metadata": {
        "colab": {
          "base_uri": "https://localhost:8080/"
        },
        "id": "5ZDIk8SDNmKW",
        "outputId": "9c797c91-1366-402e-c5b7-06846cd843ea"
      },
      "execution_count": 190,
      "outputs": [
        {
          "output_type": "stream",
          "name": "stdout",
          "text": [
            "    Name of Earth Meteorite      mass\n",
            "2                      Abee  107000.0\n",
            "7                      Agen   30000.0\n",
            "11                      Aïr   24000.0\n",
            "16                  Akyumak   50000.0\n",
            "27               Alfianello  228000.0\n",
            "..                      ...       ...\n",
            "991               Tieschitz   28000.0\n",
            "992                  Tilden   74800.0\n",
            "994                Timochin   65500.0\n",
            "997                   Tjabe   20000.0\n",
            "998                Tjerebon   16500.0\n",
            "\n",
            "[243 rows x 2 columns]\n"
          ]
        }
      ]
    }
  ]
}