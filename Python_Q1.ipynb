{
  "nbformat": 4,
  "nbformat_minor": 0,
  "metadata": {
    "colab": {
      "provenance": []
    },
    "kernelspec": {
      "name": "python3",
      "display_name": "Python 3"
    },
    "language_info": {
      "name": "python"
    }
  },
  "cells": [
    {
      "cell_type": "markdown",
      "source": [
        "Question 1: -\n",
        "Write a program that takes a string as input, and counts the frequency of each word in the string, there might\n",
        "be repeated characters in the string. Your task is to find the highest frequency and returns the length of the\n",
        "highest-frequency word.\n",
        "\n",
        "Note - You have to write at least 2 additional test cases in which your program will run successfully and provide\n",
        "an explanation for the same.\n",
        "Example input - string = “write write write all the number from from from 1 to 100”\n",
        "Example output - 5\n",
        "Explanation - From the given string we can note that the most frequent words are “write” and “from” and\n",
        "the maximum value of both the values is “write” and its corresponding length is 5"
      ],
      "metadata": {
        "id": "kv8OUJkecPav"
      }
    },
    {
      "cell_type": "code",
      "source": [
        "def highest_frequency_word(string):\n",
        "    wl = string.split()  # Split the string into a list of words\n",
        "    wf = {}  # Dictionary to store word frequencies\n",
        "    for word in wl:\n",
        "        wf[word] = wf.get(word, 0) + 1\n",
        "\n",
        "    highest_freq = max(wf.values())  # Find the highest frequency\n",
        "    highest_freq_words = [word for word, freq in wf.items() if freq == highest_freq]\n",
        "\n",
        "    highest_freq_word_length = len(max(highest_freq_words, key=len))  # Find the length of the longest word(s)\n",
        "\n",
        "    return highest_freq_word_length,max(highest_freq_words, key=len)\n",
        "\n",
        "\n",
        "# Example usage\n",
        "input_string = \"write write write all the number from from from 1 to 100\"\n",
        "result = highest_frequency_word(input_string)\n",
        "print(result)\n"
      ],
      "metadata": {
        "colab": {
          "base_uri": "https://localhost:8080/"
        },
        "id": "8v8QIO2fByZF",
        "outputId": "2dcf6103-2863-4602-c0ed-d2dc2f1060ee"
      },
      "execution_count": 8,
      "outputs": [
        {
          "output_type": "stream",
          "name": "stdout",
          "text": [
            "(5, 'write')\n"
          ]
        }
      ]
    },
    {
      "cell_type": "code",
      "source": [
        "#test case 1\n",
        "string = \"I am a student of data science data science is good field i loved to do work in data science\"\n",
        "result = highest_frequency_word(string)\n",
        "print(result)"
      ],
      "metadata": {
        "colab": {
          "base_uri": "https://localhost:8080/"
        },
        "id": "YEwzmW_spe-0",
        "outputId": "7d2bbc1f-a140-4bfd-f7e9-a50ef9c02365"
      },
      "execution_count": 9,
      "outputs": [
        {
          "output_type": "stream",
          "name": "stdout",
          "text": [
            "(7, 'science')\n"
          ]
        }
      ]
    },
    {
      "cell_type": "markdown",
      "source": [
        "Explanation :- \n",
        "From the given string of test case 1 we can note that the most frequent words are \"data and \"science\" and the maximum value of both the values is \"science\" and its corresponding length is 7"
      ],
      "metadata": {
        "id": "ZXL1fyHuBZz0"
      }
    },
    {
      "cell_type": "code",
      "source": [
        "#test case 2\n",
        "string = \"Hello this is code for count the word form hello world hello world is first code for programmers\"\n",
        "result = highest_frequency_word(string)\n",
        "print(result)"
      ],
      "metadata": {
        "colab": {
          "base_uri": "https://localhost:8080/"
        },
        "id": "mqQMdt6VqZa7",
        "outputId": "61059b0a-b579-4c0b-fdd7-4a25a2121ebe"
      },
      "execution_count": 10,
      "outputs": [
        {
          "output_type": "stream",
          "name": "stdout",
          "text": [
            "(5, 'hello')\n"
          ]
        }
      ]
    },
    {
      "cell_type": "markdown",
      "source": [
        "Explanation :- From the given string of test case 2 we can note that the most frequent words are \"hello\" and the maximum value \"hello\" is 5"
      ],
      "metadata": {
        "id": "lO3-bDU-tNKC"
      }
    }
  ]
}