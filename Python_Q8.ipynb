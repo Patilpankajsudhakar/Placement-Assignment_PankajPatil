{
  "nbformat": 4,
  "nbformat_minor": 0,
  "metadata": {
    "colab": {
      "provenance": []
    },
    "kernelspec": {
      "name": "python3",
      "display_name": "Python 3"
    },
    "language_info": {
      "name": "python"
    }
  },
  "cells": [
    {
      "cell_type": "markdown",
      "source": [
        "Question 8 -\n",
        "Using the data from Question 5, write code the analyze the data and answer the following questions Note -\n",
        "1. Draw plots to demonstrate the analysis for the following questions and better visualizations\n",
        "2. Write code comments wherever required for code understanding\n",
        "\n",
        "Insights to be drawn -\n",
        "● Get all the overall ratings for each season and using plots compare the ratings for all the\n",
        "seasons, like season 1 ratings, season 2, and so on.\n",
        "● Get all the episode names, whose average rating is more than 8 for every season\n",
        "● Get all the episode names that aired before May 2019\n",
        "● Get the episode name from each season with the highest and lowest rating\n",
        "● Get the summary for the most popular ( ratings ) episode in every season"
      ],
      "metadata": {
        "id": "8ZB4O8Qzjutl"
      }
    },
    {
      "cell_type": "code",
      "source": [
        "import matplotlib.pyplot as plt\n",
        "import seaborn as sns"
      ],
      "metadata": {
        "id": "bdYRgmgFkNld"
      },
      "execution_count": 16,
      "outputs": []
    },
    {
      "cell_type": "code",
      "execution_count": 26,
      "metadata": {
        "id": "bgf4dU5pjlfg"
      },
      "outputs": [],
      "source": [
        "import requests\n",
        "import json\n",
        "from datetime import datetime\n",
        "import pandas as pd\n",
        "\n",
        "def download_data(url):\n",
        "    response = requests.get(url)\n",
        "    if response.status_code == 200:\n",
        "        data = response.json()\n",
        "        return data\n",
        "    else:\n",
        "        print(\"Failed to download the data.\")\n",
        "        return None\n",
        "\n",
        "def extract_data(data):\n",
        "    formatted_data = []\n",
        "    episodes = data.get('_embedded', {}).get('episodes', [])\n",
        "    for episode in episodes:\n",
        "        formatted_data.append({\n",
        "            'id': int(episode.get('id', '')),\n",
        "            'url': episode.get('url', ''),\n",
        "            'name': episode.get('name', ''),\n",
        "            'season': int(episode.get('season', '')),\n",
        "            'number': int(episode.get('number', '')),\n",
        "            'type': episode.get('type', ''),\n",
        "            'airdate': datetime.strptime(episode.get('airdate', ''), \"%Y-%m-%d\"),\n",
        "            'airtime': datetime.strptime(episode.get('airtime', ''), \"%H:%M\").time(),\n",
        "            'runtime':float(episode.get('runtime', 0.0)),\n",
        "            'average rating': float(episode.get('rating', {}).get('average', 0.0)),\n",
        "            'summary': episode.get('summary', '').strip('<p>').strip('</p>'),\n",
        "            'medium image link': episode.get('image', {}).get('medium', ''),\n",
        "            'original image link': episode.get('image', {}).get('original', '')\n",
        "        })\n",
        "\n",
        "    return formatted_data\n",
        "\n",
        "# Example usage\n",
        "data_url = \"http://api.tvmaze.com/singlesearch/shows?q=westworld&embed=episodes\"\n",
        "\n",
        "data = download_data(data_url)\n",
        "id=[]\n",
        "url=[]\n",
        "name=[]\n",
        "season = []\n",
        "number=[]\n",
        "types=[]\n",
        "episode_airdates = []\n",
        "episode_airtimes = []\n",
        "episode_runtimes = []\n",
        "episode_average_ratings = []\n",
        "episode_summaries = []\n",
        "episode_medium_images = []\n",
        "episode_original_images = []\n",
        "\n",
        "if data is not None:\n",
        "    extracted_data = extract_data(data)\n",
        "    for episode in extracted_data:\n",
        "      id.append(episode['id'])\n",
        "      url.append(episode['url'])\n",
        "      name.append(episode['name'])\n",
        "      types.append(episode['type'])\n",
        "      season.append(episode['season'])\n",
        "      number.append(episode['number'])\n",
        "      episode_airdates.append(episode['airdate'])\n",
        "      episode_airtimes.append(episode['airtime'])\n",
        "      episode_runtimes.append(episode['runtime'])\n",
        "      episode_average_ratings.append(episode['average rating'])\n",
        "      episode_summaries.append(episode['summary'])\n",
        "      episode_medium_images.append(episode['medium image link'])\n",
        "      episode_original_images.append(episode['original image link'])\n",
        "\n",
        "\n",
        "df = pd.DataFrame({\n",
        "    'ID': id,\n",
        "    'Url': url,\n",
        "    'Name': name,\n",
        "    'Types': types,\n",
        "    'Season': season,\n",
        "    'Episode': number,\n",
        "    'Airdate': episode_airdates,\n",
        "    'Airtime': episode_airtimes,\n",
        "    'Runtime': episode_runtimes,\n",
        "    'Rating': episode_average_ratings,\n",
        "    'Summary': episode_summaries,\n",
        "    'Medium Image': episode_medium_images,\n",
        "    'Original Image': episode_original_images\n",
        "})"
      ]
    },
    {
      "cell_type": "code",
      "source": [
        "df.head(10)"
      ],
      "metadata": {
        "colab": {
          "base_uri": "https://localhost:8080/",
          "height": 1000
        },
        "id": "uYHkiBm2kKDV",
        "outputId": "62f38cc0-abde-4404-cf1b-3785c7689f39"
      },
      "execution_count": 31,
      "outputs": [
        {
          "output_type": "execute_result",
          "data": {
            "text/plain": [
              "       ID                                                Url  \\\n",
              "0  869671  https://www.tvmaze.com/episodes/869671/westwor...   \n",
              "1  911201  https://www.tvmaze.com/episodes/911201/westwor...   \n",
              "2  911204  https://www.tvmaze.com/episodes/911204/westwor...   \n",
              "3  911205  https://www.tvmaze.com/episodes/911205/westwor...   \n",
              "4  927174  https://www.tvmaze.com/episodes/927174/westwor...   \n",
              "5  932057  https://www.tvmaze.com/episodes/932057/westwor...   \n",
              "6  938404  https://www.tvmaze.com/episodes/938404/westwor...   \n",
              "7  943065  https://www.tvmaze.com/episodes/943065/westwor...   \n",
              "8  943066  https://www.tvmaze.com/episodes/943066/westwor...   \n",
              "9  943067  https://www.tvmaze.com/episodes/943067/westwor...   \n",
              "\n",
              "                        Name    Types  Season  Episode    Airdate   Airtime  \\\n",
              "0               The Original  regular       1        1 2016-10-02  21:00:00   \n",
              "1                   Chestnut  regular       1        2 2016-10-09  21:00:00   \n",
              "2                  The Stray  regular       1        3 2016-10-16  21:00:00   \n",
              "3          Dissonance Theory  regular       1        4 2016-10-23  21:00:00   \n",
              "4                Contrapasso  regular       1        5 2016-10-30  21:00:00   \n",
              "5              The Adversary  regular       1        6 2016-11-06  21:00:00   \n",
              "6              Trompe L'Oeil  regular       1        7 2016-11-13  21:00:00   \n",
              "7                Trace Decay  regular       1        8 2016-11-20  21:00:00   \n",
              "8  The Well-Tempered Clavier  regular       1        9 2016-11-27  21:00:00   \n",
              "9         The Bicameral Mind  regular       1       10 2016-12-04  21:00:00   \n",
              "\n",
              "   Runtime  Rating                                            Summary  \\\n",
              "0     68.0     8.0  A woman named Dolores is a free spirit in the ...   \n",
              "1     60.0     7.7  Bernard suspects that someone is sabotaging th...   \n",
              "2     60.0     7.6  Bernard continues to investigate Dolores' supp...   \n",
              "3     60.0     7.9  While Dolores joins William and Logan on their...   \n",
              "4     60.0     8.0  Dolores takes the first step on her path of di...   \n",
              "5     60.0     8.0  While Maeve convinces Felix to show her \"upsta...   \n",
              "6     60.0     8.6  While William and Dolores travel to the unclai...   \n",
              "7     60.0     7.9  Bernard tries to cope with what he did under R...   \n",
              "8     60.0     8.5  Bernard forces Robert to take him back into hi...   \n",
              "9     90.0     8.7  Delores finds out the truth about William's fa...   \n",
              "\n",
              "                                        Medium Image  \\\n",
              "0  https://static.tvmaze.com/uploads/images/mediu...   \n",
              "1  https://static.tvmaze.com/uploads/images/mediu...   \n",
              "2  https://static.tvmaze.com/uploads/images/mediu...   \n",
              "3  https://static.tvmaze.com/uploads/images/mediu...   \n",
              "4  https://static.tvmaze.com/uploads/images/mediu...   \n",
              "5  https://static.tvmaze.com/uploads/images/mediu...   \n",
              "6  https://static.tvmaze.com/uploads/images/mediu...   \n",
              "7  https://static.tvmaze.com/uploads/images/mediu...   \n",
              "8  https://static.tvmaze.com/uploads/images/mediu...   \n",
              "9  https://static.tvmaze.com/uploads/images/mediu...   \n",
              "\n",
              "                                      Original Image  \n",
              "0  https://static.tvmaze.com/uploads/images/origi...  \n",
              "1  https://static.tvmaze.com/uploads/images/origi...  \n",
              "2  https://static.tvmaze.com/uploads/images/origi...  \n",
              "3  https://static.tvmaze.com/uploads/images/origi...  \n",
              "4  https://static.tvmaze.com/uploads/images/origi...  \n",
              "5  https://static.tvmaze.com/uploads/images/origi...  \n",
              "6  https://static.tvmaze.com/uploads/images/origi...  \n",
              "7  https://static.tvmaze.com/uploads/images/origi...  \n",
              "8  https://static.tvmaze.com/uploads/images/origi...  \n",
              "9  https://static.tvmaze.com/uploads/images/origi...  "
            ],
            "text/html": [
              "\n",
              "  <div id=\"df-31c01c37-2431-4073-8d01-50c8b39b7750\">\n",
              "    <div class=\"colab-df-container\">\n",
              "      <div>\n",
              "<style scoped>\n",
              "    .dataframe tbody tr th:only-of-type {\n",
              "        vertical-align: middle;\n",
              "    }\n",
              "\n",
              "    .dataframe tbody tr th {\n",
              "        vertical-align: top;\n",
              "    }\n",
              "\n",
              "    .dataframe thead th {\n",
              "        text-align: right;\n",
              "    }\n",
              "</style>\n",
              "<table border=\"1\" class=\"dataframe\">\n",
              "  <thead>\n",
              "    <tr style=\"text-align: right;\">\n",
              "      <th></th>\n",
              "      <th>ID</th>\n",
              "      <th>Url</th>\n",
              "      <th>Name</th>\n",
              "      <th>Types</th>\n",
              "      <th>Season</th>\n",
              "      <th>Episode</th>\n",
              "      <th>Airdate</th>\n",
              "      <th>Airtime</th>\n",
              "      <th>Runtime</th>\n",
              "      <th>Rating</th>\n",
              "      <th>Summary</th>\n",
              "      <th>Medium Image</th>\n",
              "      <th>Original Image</th>\n",
              "    </tr>\n",
              "  </thead>\n",
              "  <tbody>\n",
              "    <tr>\n",
              "      <th>0</th>\n",
              "      <td>869671</td>\n",
              "      <td>https://www.tvmaze.com/episodes/869671/westwor...</td>\n",
              "      <td>The Original</td>\n",
              "      <td>regular</td>\n",
              "      <td>1</td>\n",
              "      <td>1</td>\n",
              "      <td>2016-10-02</td>\n",
              "      <td>21:00:00</td>\n",
              "      <td>68.0</td>\n",
              "      <td>8.0</td>\n",
              "      <td>A woman named Dolores is a free spirit in the ...</td>\n",
              "      <td>https://static.tvmaze.com/uploads/images/mediu...</td>\n",
              "      <td>https://static.tvmaze.com/uploads/images/origi...</td>\n",
              "    </tr>\n",
              "    <tr>\n",
              "      <th>1</th>\n",
              "      <td>911201</td>\n",
              "      <td>https://www.tvmaze.com/episodes/911201/westwor...</td>\n",
              "      <td>Chestnut</td>\n",
              "      <td>regular</td>\n",
              "      <td>1</td>\n",
              "      <td>2</td>\n",
              "      <td>2016-10-09</td>\n",
              "      <td>21:00:00</td>\n",
              "      <td>60.0</td>\n",
              "      <td>7.7</td>\n",
              "      <td>Bernard suspects that someone is sabotaging th...</td>\n",
              "      <td>https://static.tvmaze.com/uploads/images/mediu...</td>\n",
              "      <td>https://static.tvmaze.com/uploads/images/origi...</td>\n",
              "    </tr>\n",
              "    <tr>\n",
              "      <th>2</th>\n",
              "      <td>911204</td>\n",
              "      <td>https://www.tvmaze.com/episodes/911204/westwor...</td>\n",
              "      <td>The Stray</td>\n",
              "      <td>regular</td>\n",
              "      <td>1</td>\n",
              "      <td>3</td>\n",
              "      <td>2016-10-16</td>\n",
              "      <td>21:00:00</td>\n",
              "      <td>60.0</td>\n",
              "      <td>7.6</td>\n",
              "      <td>Bernard continues to investigate Dolores' supp...</td>\n",
              "      <td>https://static.tvmaze.com/uploads/images/mediu...</td>\n",
              "      <td>https://static.tvmaze.com/uploads/images/origi...</td>\n",
              "    </tr>\n",
              "    <tr>\n",
              "      <th>3</th>\n",
              "      <td>911205</td>\n",
              "      <td>https://www.tvmaze.com/episodes/911205/westwor...</td>\n",
              "      <td>Dissonance Theory</td>\n",
              "      <td>regular</td>\n",
              "      <td>1</td>\n",
              "      <td>4</td>\n",
              "      <td>2016-10-23</td>\n",
              "      <td>21:00:00</td>\n",
              "      <td>60.0</td>\n",
              "      <td>7.9</td>\n",
              "      <td>While Dolores joins William and Logan on their...</td>\n",
              "      <td>https://static.tvmaze.com/uploads/images/mediu...</td>\n",
              "      <td>https://static.tvmaze.com/uploads/images/origi...</td>\n",
              "    </tr>\n",
              "    <tr>\n",
              "      <th>4</th>\n",
              "      <td>927174</td>\n",
              "      <td>https://www.tvmaze.com/episodes/927174/westwor...</td>\n",
              "      <td>Contrapasso</td>\n",
              "      <td>regular</td>\n",
              "      <td>1</td>\n",
              "      <td>5</td>\n",
              "      <td>2016-10-30</td>\n",
              "      <td>21:00:00</td>\n",
              "      <td>60.0</td>\n",
              "      <td>8.0</td>\n",
              "      <td>Dolores takes the first step on her path of di...</td>\n",
              "      <td>https://static.tvmaze.com/uploads/images/mediu...</td>\n",
              "      <td>https://static.tvmaze.com/uploads/images/origi...</td>\n",
              "    </tr>\n",
              "    <tr>\n",
              "      <th>5</th>\n",
              "      <td>932057</td>\n",
              "      <td>https://www.tvmaze.com/episodes/932057/westwor...</td>\n",
              "      <td>The Adversary</td>\n",
              "      <td>regular</td>\n",
              "      <td>1</td>\n",
              "      <td>6</td>\n",
              "      <td>2016-11-06</td>\n",
              "      <td>21:00:00</td>\n",
              "      <td>60.0</td>\n",
              "      <td>8.0</td>\n",
              "      <td>While Maeve convinces Felix to show her \"upsta...</td>\n",
              "      <td>https://static.tvmaze.com/uploads/images/mediu...</td>\n",
              "      <td>https://static.tvmaze.com/uploads/images/origi...</td>\n",
              "    </tr>\n",
              "    <tr>\n",
              "      <th>6</th>\n",
              "      <td>938404</td>\n",
              "      <td>https://www.tvmaze.com/episodes/938404/westwor...</td>\n",
              "      <td>Trompe L'Oeil</td>\n",
              "      <td>regular</td>\n",
              "      <td>1</td>\n",
              "      <td>7</td>\n",
              "      <td>2016-11-13</td>\n",
              "      <td>21:00:00</td>\n",
              "      <td>60.0</td>\n",
              "      <td>8.6</td>\n",
              "      <td>While William and Dolores travel to the unclai...</td>\n",
              "      <td>https://static.tvmaze.com/uploads/images/mediu...</td>\n",
              "      <td>https://static.tvmaze.com/uploads/images/origi...</td>\n",
              "    </tr>\n",
              "    <tr>\n",
              "      <th>7</th>\n",
              "      <td>943065</td>\n",
              "      <td>https://www.tvmaze.com/episodes/943065/westwor...</td>\n",
              "      <td>Trace Decay</td>\n",
              "      <td>regular</td>\n",
              "      <td>1</td>\n",
              "      <td>8</td>\n",
              "      <td>2016-11-20</td>\n",
              "      <td>21:00:00</td>\n",
              "      <td>60.0</td>\n",
              "      <td>7.9</td>\n",
              "      <td>Bernard tries to cope with what he did under R...</td>\n",
              "      <td>https://static.tvmaze.com/uploads/images/mediu...</td>\n",
              "      <td>https://static.tvmaze.com/uploads/images/origi...</td>\n",
              "    </tr>\n",
              "    <tr>\n",
              "      <th>8</th>\n",
              "      <td>943066</td>\n",
              "      <td>https://www.tvmaze.com/episodes/943066/westwor...</td>\n",
              "      <td>The Well-Tempered Clavier</td>\n",
              "      <td>regular</td>\n",
              "      <td>1</td>\n",
              "      <td>9</td>\n",
              "      <td>2016-11-27</td>\n",
              "      <td>21:00:00</td>\n",
              "      <td>60.0</td>\n",
              "      <td>8.5</td>\n",
              "      <td>Bernard forces Robert to take him back into hi...</td>\n",
              "      <td>https://static.tvmaze.com/uploads/images/mediu...</td>\n",
              "      <td>https://static.tvmaze.com/uploads/images/origi...</td>\n",
              "    </tr>\n",
              "    <tr>\n",
              "      <th>9</th>\n",
              "      <td>943067</td>\n",
              "      <td>https://www.tvmaze.com/episodes/943067/westwor...</td>\n",
              "      <td>The Bicameral Mind</td>\n",
              "      <td>regular</td>\n",
              "      <td>1</td>\n",
              "      <td>10</td>\n",
              "      <td>2016-12-04</td>\n",
              "      <td>21:00:00</td>\n",
              "      <td>90.0</td>\n",
              "      <td>8.7</td>\n",
              "      <td>Delores finds out the truth about William's fa...</td>\n",
              "      <td>https://static.tvmaze.com/uploads/images/mediu...</td>\n",
              "      <td>https://static.tvmaze.com/uploads/images/origi...</td>\n",
              "    </tr>\n",
              "  </tbody>\n",
              "</table>\n",
              "</div>\n",
              "      <button class=\"colab-df-convert\" onclick=\"convertToInteractive('df-31c01c37-2431-4073-8d01-50c8b39b7750')\"\n",
              "              title=\"Convert this dataframe to an interactive table.\"\n",
              "              style=\"display:none;\">\n",
              "        \n",
              "  <svg xmlns=\"http://www.w3.org/2000/svg\" height=\"24px\"viewBox=\"0 0 24 24\"\n",
              "       width=\"24px\">\n",
              "    <path d=\"M0 0h24v24H0V0z\" fill=\"none\"/>\n",
              "    <path d=\"M18.56 5.44l.94 2.06.94-2.06 2.06-.94-2.06-.94-.94-2.06-.94 2.06-2.06.94zm-11 1L8.5 8.5l.94-2.06 2.06-.94-2.06-.94L8.5 2.5l-.94 2.06-2.06.94zm10 10l.94 2.06.94-2.06 2.06-.94-2.06-.94-.94-2.06-.94 2.06-2.06.94z\"/><path d=\"M17.41 7.96l-1.37-1.37c-.4-.4-.92-.59-1.43-.59-.52 0-1.04.2-1.43.59L10.3 9.45l-7.72 7.72c-.78.78-.78 2.05 0 2.83L4 21.41c.39.39.9.59 1.41.59.51 0 1.02-.2 1.41-.59l7.78-7.78 2.81-2.81c.8-.78.8-2.07 0-2.86zM5.41 20L4 18.59l7.72-7.72 1.47 1.35L5.41 20z\"/>\n",
              "  </svg>\n",
              "      </button>\n",
              "      \n",
              "  <style>\n",
              "    .colab-df-container {\n",
              "      display:flex;\n",
              "      flex-wrap:wrap;\n",
              "      gap: 12px;\n",
              "    }\n",
              "\n",
              "    .colab-df-convert {\n",
              "      background-color: #E8F0FE;\n",
              "      border: none;\n",
              "      border-radius: 50%;\n",
              "      cursor: pointer;\n",
              "      display: none;\n",
              "      fill: #1967D2;\n",
              "      height: 32px;\n",
              "      padding: 0 0 0 0;\n",
              "      width: 32px;\n",
              "    }\n",
              "\n",
              "    .colab-df-convert:hover {\n",
              "      background-color: #E2EBFA;\n",
              "      box-shadow: 0px 1px 2px rgba(60, 64, 67, 0.3), 0px 1px 3px 1px rgba(60, 64, 67, 0.15);\n",
              "      fill: #174EA6;\n",
              "    }\n",
              "\n",
              "    [theme=dark] .colab-df-convert {\n",
              "      background-color: #3B4455;\n",
              "      fill: #D2E3FC;\n",
              "    }\n",
              "\n",
              "    [theme=dark] .colab-df-convert:hover {\n",
              "      background-color: #434B5C;\n",
              "      box-shadow: 0px 1px 3px 1px rgba(0, 0, 0, 0.15);\n",
              "      filter: drop-shadow(0px 1px 2px rgba(0, 0, 0, 0.3));\n",
              "      fill: #FFFFFF;\n",
              "    }\n",
              "  </style>\n",
              "\n",
              "      <script>\n",
              "        const buttonEl =\n",
              "          document.querySelector('#df-31c01c37-2431-4073-8d01-50c8b39b7750 button.colab-df-convert');\n",
              "        buttonEl.style.display =\n",
              "          google.colab.kernel.accessAllowed ? 'block' : 'none';\n",
              "\n",
              "        async function convertToInteractive(key) {\n",
              "          const element = document.querySelector('#df-31c01c37-2431-4073-8d01-50c8b39b7750');\n",
              "          const dataTable =\n",
              "            await google.colab.kernel.invokeFunction('convertToInteractive',\n",
              "                                                     [key], {});\n",
              "          if (!dataTable) return;\n",
              "\n",
              "          const docLinkHtml = 'Like what you see? Visit the ' +\n",
              "            '<a target=\"_blank\" href=https://colab.research.google.com/notebooks/data_table.ipynb>data table notebook</a>'\n",
              "            + ' to learn more about interactive tables.';\n",
              "          element.innerHTML = '';\n",
              "          dataTable['output_type'] = 'display_data';\n",
              "          await google.colab.output.renderOutput(dataTable, element);\n",
              "          const docLink = document.createElement('div');\n",
              "          docLink.innerHTML = docLinkHtml;\n",
              "          element.appendChild(docLink);\n",
              "        }\n",
              "      </script>\n",
              "    </div>\n",
              "  </div>\n",
              "  "
            ]
          },
          "metadata": {},
          "execution_count": 31
        }
      ]
    },
    {
      "cell_type": "code",
      "source": [
        "# 1) Get all the overall ratings for each season and compare the ratings using plots\n",
        "season_ratings = df.groupby('Season')['Rating'].mean()\n",
        "print(\"Get all overll ratings with respect to season:\\n \",season_ratings)\n",
        "\n",
        "# Plot the ratings for each season\n",
        "plt.figure(figsize=(10, 6))\n",
        "season_ratings.plot(kind='bar')\n",
        "plt.xlabel('Season')\n",
        "plt.ylabel('Average Rating')\n",
        "plt.title('Average Ratings by Season')\n",
        "plt.show()"
      ],
      "metadata": {
        "colab": {
          "base_uri": "https://localhost:8080/",
          "height": 687
        },
        "id": "Zi9IrrAnkifM",
        "outputId": "bbdc43c4-beaf-4c44-87b0-57633fe0bad7"
      },
      "execution_count": 28,
      "outputs": [
        {
          "output_type": "stream",
          "name": "stdout",
          "text": [
            "Get all overll ratings with respect to season:\n",
            "  Season\n",
            "1    8.0900\n",
            "2    8.0000\n",
            "3    7.7750\n",
            "4    7.5375\n",
            "Name: Rating, dtype: float64\n"
          ]
        },
        {
          "output_type": "display_data",
          "data": {
            "text/plain": [
              "<Figure size 1000x600 with 1 Axes>"
            ],
            "image/png": "[encoded data removed]"
          },
          "metadata": {}
        }
      ]
    },
    {
      "cell_type": "code",
      "source": [
        "# 2) Get all the episode names whose average rating is more than 8 for every season\n",
        "high_rated_episodes = df.groupby(['Season', 'Name'])['Rating'].mean().reset_index()\n",
        "high_rated_episodes = high_rated_episodes[high_rated_episodes['Rating'] > 8]\n",
        "episode_names_high_rated = high_rated_episodes['Name'].tolist()\n",
        "print(\"Getting all the episode names whose average rating is more than 8 for every season: \\n\",episode_names_high_rated)"
      ],
      "metadata": {
        "colab": {
          "base_uri": "https://localhost:8080/"
        },
        "id": "--J8KN2MqA9G",
        "outputId": "3288867b-7450-4a7b-bba6-497d48b849b2"
      },
      "execution_count": 29,
      "outputs": [
        {
          "output_type": "stream",
          "name": "stdout",
          "text": [
            "Getting all the episode names whose average rating is more than 8 for every season: \n",
            " ['The Bicameral Mind', 'The Well-Tempered Clavier', \"Trompe L'Oeil\", 'Kiksuya', 'The Passenger', 'Vanishing Point']\n"
          ]
        }
      ]
    },
    {
      "cell_type": "code",
      "source": [
        "# plotting Name vs rating more than 8 \n",
        "plt.figure(figsize=(12, 6))\n",
        "plt.bar(episode_names_high_rated,high_rated_episodes['Rating'])\n",
        "plt.xlabel('Name')\n",
        "plt.ylabel('Rating')\n",
        "plt.title('Episode name there rating more than 8')\n",
        "plt.show()"
      ],
      "metadata": {
        "colab": {
          "base_uri": "https://localhost:8080/",
          "height": 564
        },
        "id": "GlLV5PxOrKLc",
        "outputId": "c0ce42f8-8553-4c71-ce9b-ac32e6272336"
      },
      "execution_count": 34,
      "outputs": [
        {
          "output_type": "display_data",
          "data": {
            "text/plain": [
              "<Figure size 1200x600 with 1 Axes>"
            ],
            "image/png": "[encoded data removed]"
          },
          "metadata": {}
        }
      ]
    },
    {
      "cell_type": "code",
      "source": [
        "# 3) Get all the episode names that aired before May 2019\n",
        "df['Airdate'] = pd.to_datetime(df['Airdate'])\n",
        "episodes_before_may_2019 = df[df['Airdate'] < pd.Timestamp('2019-05-01')]\n",
        "episode_names_before_may_2019 = episodes_before_may_2019['Name'].tolist()\n",
        "print(\"Getting all the episode names that aired before May 2019: \\n\",episode_names_before_may_2019)"
      ],
      "metadata": {
        "colab": {
          "base_uri": "https://localhost:8080/"
        },
        "id": "iKouPod4snXc",
        "outputId": "28820349-5dcd-4638-f003-4464663866c0"
      },
      "execution_count": 37,
      "outputs": [
        {
          "output_type": "stream",
          "name": "stdout",
          "text": [
            "Getting all the episode names that aired before May 2019: \n",
            " ['The Original', 'Chestnut', 'The Stray', 'Dissonance Theory', 'Contrapasso', 'The Adversary', \"Trompe L'Oeil\", 'Trace Decay', 'The Well-Tempered Clavier', 'The Bicameral Mind', 'Journey Into Night', 'Reunion', 'Virtù e Fortuna', 'The Riddle of the Sphinx', 'Akane No Mai', 'Phase Space', 'Les Écorchés', 'Kiksuya', 'Vanishing Point', 'The Passenger']\n"
          ]
        }
      ]
    },
    {
      "cell_type": "code",
      "source": [
        "# 4) Get the episode name from each season with the highest and lowest rating\n",
        "highest_rated_episodes = df.groupby('Season')['Rating'].idxmax()\n",
        "lowest_rated_episodes = df.groupby('Season')['Rating'].idxmin()\n",
        "episode_names_highest_rated = df.loc[highest_rated_episodes, 'Name'].tolist()\n",
        "episode_names_lowest_rated = df.loc[lowest_rated_episodes, 'Name'].tolist()\n",
        "print(\"Getting all the episode name from each season with the highest rating: \\n\",episode_names_highest_rated)\n",
        "print(\"Getting all the episode name from each season with the lowest rating: \\n\",episode_names_lowest_rated)"
      ],
      "metadata": {
        "colab": {
          "base_uri": "https://localhost:8080/"
        },
        "id": "CEqy1eHCwRI4",
        "outputId": "2768fc74-2596-411e-bc25-d43f54968f49"
      },
      "execution_count": 45,
      "outputs": [
        {
          "output_type": "stream",
          "name": "stdout",
          "text": [
            "Getting all the episode name from each season with the highest rating: \n",
            " ['The Bicameral Mind', 'Kiksuya', 'Parce Domine', 'Zhuangzi']\n",
            "Getting all the episode name from each season with the lowest rating: \n",
            " ['The Stray', 'Akane No Mai', 'Decoherence', 'The Auguries']\n"
          ]
        }
      ]
    },
    {
      "cell_type": "code",
      "source": [
        "# plotting Name vs Higest rating\n",
        "plt.figure(figsize=(12, 6))\n",
        "plt.bar(episode_names_highest_rated,highest_rated_episodes)\n",
        "plt.xlabel('Name')\n",
        "plt.ylabel('Higest rating')\n",
        "plt.title('Episode name there Higest rating')\n",
        "plt.show()"
      ],
      "metadata": {
        "colab": {
          "base_uri": "https://localhost:8080/",
          "height": 564
        },
        "id": "P4czmum-wn1v",
        "outputId": "42a860a5-6194-4c8a-9e37-9adc76e8be90"
      },
      "execution_count": 47,
      "outputs": [
        {
          "output_type": "display_data",
          "data": {
            "text/plain": [
              "<Figure size 1200x600 with 1 Axes>"
            ],
            "image/png": "[encoded data removed]"
          },
          "metadata": {}
        }
      ]
    },
    {
      "cell_type": "code",
      "source": [
        "# plotting Name vs lowest rating\n",
        "plt.figure(figsize=(12, 6))\n",
        "plt.bar(episode_names_lowest_rated,lowest_rated_episodes)\n",
        "plt.xlabel('Name')\n",
        "plt.ylabel('lowest rating')\n",
        "plt.title('Episode name there lowest rating')\n",
        "plt.show()"
      ],
      "metadata": {
        "colab": {
          "base_uri": "https://localhost:8080/",
          "height": 564
        },
        "id": "GAz9ARTLxS7G",
        "outputId": "96661ed1-f2ce-4a5f-d323-991591463f63"
      },
      "execution_count": 48,
      "outputs": [
        {
          "output_type": "display_data",
          "data": {
            "text/plain": [
              "<Figure size 1200x600 with 1 Axes>"
            ],
            "image/png": "[encoded data removed]"
          },
          "metadata": {}
        }
      ]
    },
    {
      "cell_type": "code",
      "source": [
        "# 5) Get the summary for the most popular (highest ratings) episode in every season\n",
        "most_popular_episodes = df.groupby('Season')['Rating'].idxmax()\n",
        "episode_summaries_most_popular = df.loc[most_popular_episodes, 'Summary'].tolist()\n",
        "print(\"Getting summary of list for the most popular (highest ratings) episode in every season : \\n\",episode_summaries_most_popular)"
      ],
      "metadata": {
        "colab": {
          "base_uri": "https://localhost:8080/"
        },
        "id": "XqP7SJSgxbrv",
        "outputId": "982b49df-5046-49dd-a622-2b47a927da44"
      },
      "execution_count": 54,
      "outputs": [
        {
          "output_type": "stream",
          "name": "stdout",
          "text": [
            "Getting summary of list for the most popular (highest ratings) episode in every season : \n",
            " [\"Delores finds out the truth about William's fate. Meanwhile, Maeve organizes an escape plan, only to discover that someone else is pulling the strings. And Robert plays the final piece in his grand narrative.\", \"Another of Westworld's Host revolutionaries is revealed. Meanwhile, Emily finds the Man and convinces the Ghost Nation to hand him over to her to ensure his suffering.\", \"If you're stuck in a loop, try walking in a straight line.\", 'God is bored.']\n"
          ]
        }
      ]
    },
    {
      "cell_type": "code",
      "source": [
        "print(\"Summary for the most popular episode in every season:\")\n",
        "for i, summary in enumerate(episode_summaries_most_popular):\n",
        "    print(\"Season\", i + 1, \":\", summary)"
      ],
      "metadata": {
        "colab": {
          "base_uri": "https://localhost:8080/"
        },
        "id": "Z1pUHZy6ytJ-",
        "outputId": "7fe6121e-a874-4c7e-ca92-6ff141ab7593"
      },
      "execution_count": 55,
      "outputs": [
        {
          "output_type": "stream",
          "name": "stdout",
          "text": [
            "Summary for the most popular episode in every season:\n",
            "Season 1 : Delores finds out the truth about William's fate. Meanwhile, Maeve organizes an escape plan, only to discover that someone else is pulling the strings. And Robert plays the final piece in his grand narrative.\n",
            "Season 2 : Another of Westworld's Host revolutionaries is revealed. Meanwhile, Emily finds the Man and convinces the Ghost Nation to hand him over to her to ensure his suffering.\n",
            "Season 3 : If you're stuck in a loop, try walking in a straight line.\n",
            "Season 4 : God is bored.\n"
          ]
        }
      ]
    }
  ]
}