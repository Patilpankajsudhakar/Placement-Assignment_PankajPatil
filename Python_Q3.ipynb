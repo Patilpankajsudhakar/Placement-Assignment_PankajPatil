{
  "nbformat": 4,
  "nbformat_minor": 0,
  "metadata": {
    "colab": {
      "provenance": []
    },
    "kernelspec": {
      "name": "python3",
      "display_name": "Python 3"
    },
    "language_info": {
      "name": "python"
    }
  },
  "cells": [
    {
      "cell_type": "markdown",
      "source": [
        "Question 3: -\n",
        "Write a program, which would download the data from the provided link, and then read the data and convert\n",
        "that into properly structured data and return it in Excel format.\n",
        "Note - Write comments wherever necessary explaining the code written.\n",
        "\n",
        "Link - https://raw.githubusercontent.com/Biuni/PokemonGO-Pokedex/master/pokedex.json\n",
        "\n",
        "\n",
        "Data Attributes - \n",
        "id: Identification Number - int num: Number of the\n",
        "● Pokémon in the official Pokédex - int name: Pokémon name -\n",
        "● string img: URL to an image of this Pokémon - string type:\n",
        "● Pokémon type -string height: Pokémon height - float\n",
        "● weight: Pokémon weight - float candy: type of candy used to evolve Pokémon or\n",
        "given\n",
        "● when transferred - string candy_count: the amount of candies required to evolve\n",
        "- int\n",
        "● egg: Number of kilometers to travel to hatch the egg - float spawn_chance:\n",
        "● Percentage of spawn chance (NEW) - float avg_spawns: Number of this\n",
        "pokemon on 10.000 spawns (NEW) - int\n",
        "● spawn_time: Spawns most active at the time on this field. Spawn times are the same for all\n",
        "time zones and are expressed in local time. (NEW) - “minutes: seconds” multipliers:\n",
        "Multiplier of Combat Power (CP) for calculating the CP after evolution See below - list of int\n",
        "weakness: Types of\n",
        "● Pokémon this Pokémon is weak to - list of strings next_evolution: Number and Name of\n",
        "successive evolutions of Pokémon - list of dict prev_evolution: Number and Name of previous\n",
        "evolutions of Pokémon - - list of dict"
      ],
      "metadata": {
        "id": "w-Z7HiTMW84h"
      }
    },
    {
      "cell_type": "code",
      "execution_count": 31,
      "metadata": {
        "id": "tiHkc4BaWpzz",
        "colab": {
          "base_uri": "https://localhost:8080/"
        },
        "outputId": "643eaf68-f812-46d5-8f41-dd43e5b682f9"
      },
      "outputs": [
        {
          "output_type": "stream",
          "name": "stdout",
          "text": [
            "Data exported to Excel successfully.\n"
          ]
        }
      ],
      "source": [
        "import requests\n",
        "import json\n",
        "import pandas as pd\n",
        "\n",
        "def download_data(url):\n",
        "    response = requests.get(url)\n",
        "    if response.status_code == 200:\n",
        "        data = response.json()\n",
        "        return data\n",
        "    else:\n",
        "        print(\"Failed to download the data.\")\n",
        "        return None\n",
        "\n",
        "def process_data(data):\n",
        "    structured_data = []\n",
        "    for pokemon in data['pokemon']:\n",
        "        structured_data.append({\n",
        "            'ID': int(pokemon['id']),\n",
        "            'Number': int(pokemon['num']),\n",
        "            'Name': pokemon['name'],\n",
        "            'Image URL': pokemon['img'],\n",
        "            'Type': ', '.join(pokemon['type']),\n",
        "            'Height':float(pokemon['height'].replace(\" m\",\"\")),\n",
        "            'Weight':float(pokemon['weight'].replace(\" kg\",\"\")),\n",
        "            'Candy': pokemon['candy'],\n",
        "            'Candy Count': int(pokemon.get('candy_count', 0)),\n",
        "            'Egg': [float(item['egg'].replace(item['egg'],\"0\")) if item['egg']==\"Not in Eggs\" or item['egg']==\"Omanyte Candy\" \n",
        "                       else float(item['egg'].replace(\" km\",\"\")) for item in data['pokemon']],\n",
        "            'Spawn Chance': float(pokemon.get('spawn_chance', 0)),\n",
        "            'Average Spawns': int(pokemon.get('avg_spawns', 0)),\n",
        "            'Spawn Time': pokemon.get('spawn_time', ''),\n",
        "            'Weaknesses': ', '.join(pokemon.get('weaknesses', [])),\n",
        "            'Next Evolution': ', '.join([evolution['name'] for evolution in pokemon.get('next_evolution', [])]),\n",
        "            'Previous Evolution': ', '.join([evolution['name'] for evolution in pokemon.get('prev_evolution', [])])\n",
        "        })\n",
        "\n",
        "    return structured_data\n",
        "\n",
        "def export_to_excel(data, file_path):\n",
        "    df = pd.DataFrame(data)\n",
        "    df.to_excel(file_path, index=False)\n",
        "    print(\"Data exported to Excel successfully.\")\n",
        "\n",
        "# Example usage\n",
        "data_url = \"https://raw.githubusercontent.com/Biuni/PokemonGO-Pokedex/master/pokedex.json\"\n",
        "excel_file_path = \"pokemon_data.xlsx\"\n",
        "\n",
        "data = download_data(data_url)\n",
        "\n",
        "if data is not None:\n",
        "    structured_data = process_data(data)\n",
        "    export_to_excel(structured_data, excel_file_path)\n"
      ]
    }
  ]
}