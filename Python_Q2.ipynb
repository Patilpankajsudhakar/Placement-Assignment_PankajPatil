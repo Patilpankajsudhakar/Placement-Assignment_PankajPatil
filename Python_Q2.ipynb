{
  "nbformat": 4,
  "nbformat_minor": 0,
  "metadata": {
    "colab": {
      "provenance": []
    },
    "kernelspec": {
      "name": "python3",
      "display_name": "Python 3"
    },
    "language_info": {
      "name": "python"
    }
  },
  "cells": [
    {
      "cell_type": "markdown",
      "source": [
        "Question 2: -\n",
        "Consider a string to be valid if all characters of the string appear the same number of times. It is also valid if\n",
        "he can remove just one character at the index in the string, and the remaining characters will occur the same\n",
        "number of times. Given a string, determine if it is valid. If so, return YES , otherwise return NO .\n",
        "\n",
        "Note - You have to write at least 2 additional test cases in which your program will run successfully and provide\n",
        "an explanation for the same.\n",
        "Example input 1 - s = “abc”. This is a valid string because frequencies are { “a”: 1, “b”: 1, “c”: 1 }\n",
        "Example output 1- YES\n",
        "Example input 2 - s “abcc”. This string is not valid as we can remove only 1 occurrence of “c”. That leaves\n",
        "character frequencies of { “a”: 1, “b”: 1 , “c”: 2 }\n",
        "Example output 2 - NO"
      ],
      "metadata": {
        "id": "gFPuGoUd1uoy"
      }
    },
    {
      "cell_type": "code",
      "source": [
        "from collections import Counter\n",
        "\n",
        "def valid_string(s):\n",
        "    char_freq = Counter(s) \n",
        "    freq_count = Counter(char_freq.values())  \n",
        "\n",
        "    if len(freq_count) == 1:\n",
        "       #first conditon if all characters of the string appear the same number of times\n",
        "        return \"YES\"\n",
        "    elif len(freq_count) == 2:\n",
        "        most_common_freq, least_common_freq = freq_count.most_common(2)\n",
        "\n",
        "        if least_common_freq[1] == 1 and least_common_freq[0] == 1:\n",
        "            # If removing one character with the least common frequency makes the string valid\n",
        "            if least_common_freq[0] - 1 == most_common_freq[0] or least_common_freq[0] - 1 == 0:\n",
        "                return \"YES\"\n",
        "\n",
        "        # Check if the most common frequency occurs only once and has a count of 1\n",
        "        if most_common_freq[1] == 1 and most_common_freq[0] == 1:\n",
        "            # If removing one character with the most common frequency makes the string valid\n",
        "            if most_common_freq[0] - 1 == least_common_freq[0] or most_common_freq[0] - 1 == 0:\n",
        "                return \"YES\"\n",
        "\n",
        "    return \"NO\"\n",
        "\n"
      ],
      "metadata": {
        "id": "ybM34kIW2YRa"
      },
      "execution_count": 20,
      "outputs": []
    },
    {
      "cell_type": "code",
      "source": [
        "# test case 1\n",
        "string1 = \"paj\"  \n",
        "print(valid_string(string1))  # This is a valid string because frequencies are { “p”: 1, “a”: 1, “j”: 1 }\n",
        "\n",
        "# test case 2\n",
        "string2 = \"abccee\"  \n",
        "print(valid_string(string2))  # This string is not valid as we can remove only 1 occurrence of “c” and \"e\"\n"
      ],
      "metadata": {
        "colab": {
          "base_uri": "https://localhost:8080/"
        },
        "id": "DShJ8sKv2u6S",
        "outputId": "e3ae7387-a9b7-45bd-8337-0d9c4f07912a"
      },
      "execution_count": 22,
      "outputs": [
        {
          "output_type": "stream",
          "name": "stdout",
          "text": [
            "YES\n",
            "NO\n"
          ]
        }
      ]
    }
  ]
}